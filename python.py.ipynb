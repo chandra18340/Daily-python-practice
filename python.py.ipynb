{
  "nbformat": 4,
  "nbformat_minor": 0,
  "metadata": {
    "colab": {
      "name": "day5",
      "provenance": []
    },
    "kernelspec": {
      "name": "python3",
      "display_name": "Python 3"
    },
    "language_info": {
      "name": "python"
    }
  },
  "cells": [
    {
      "cell_type": "code",
      "execution_count": null,
      "metadata": {
        "id": "K-CEQhHKiYK4"
      },
      "outputs": [],
      "source": [
        "'''For this challenge, create a bank account class that has two attributes:\n",
        "owner\n",
        "balance\n",
        "and two methods:\n",
        "deposit\n",
        "withdraw\n",
        "As an added requirement, withdrawals may not exceed the available balance.\n",
        "Instantiate your class, make several deposits and withdrawals, and test to make sure the account can't be overdrawn.\n",
        "In [ ]:'''\n",
        "class Account:\n",
        "  def __init__(self, owner, balance=0):\n",
        "       self.owner = owner\n",
        "       self.balance = balance\n",
        "  def __str__(self):\n",
        "       return \"Account owner: Pavan \\nAccount balance: 100\"\n",
        "  def deposit(self, dep_amt):\n",
        "       self.balance += dep_amt\n",
        "       print(\"Deposit Accepted\")\n",
        "  def widthraw(self, wd_amt):\n",
        "      try:\n",
        "          if self.balance >= wd_amt:\n",
        "            self.balance -= wd_amt\n",
        "            print(\"Withdrwal accepted\")\n",
        "          else:\n",
        "            print(\"Funds unavailable\")\n",
        "      except ValueError:\n",
        "         print(\"valueerror for fund\")"
      ]
    },
    {
      "cell_type": "code",
      "source": [
        "# 1. Instantiate the class\n",
        "class Account:\n",
        "  def __init__(self, owner, balance=0):\n",
        "       self.owner = owner\n",
        "       self.balance = balance\n",
        "sam = Account(owner = 'pavan')\n",
        "frank=Account(balance = '100')\n",
        "frank.balance\n",
        "sam.owner\n",
        "\n",
        " "
      ],
      "metadata": {
        "id": "XQvomyNDruVN",
        "colab": {
          "base_uri": "https://localhost:8080/",
          "height": 235
        },
        "outputId": "ce2110a0-e188-4a6a-8e94-9210ae0c050a"
      },
      "execution_count": null,
      "outputs": [
        {
          "output_type": "error",
          "ename": "TypeError",
          "evalue": "ignored",
          "traceback": [
            "\u001b[0;31m---------------------------------------------------------------------------\u001b[0m",
            "\u001b[0;31mTypeError\u001b[0m                                 Traceback (most recent call last)",
            "\u001b[0;32m<ipython-input-16-9deed929b905>\u001b[0m in \u001b[0;36m<module>\u001b[0;34m()\u001b[0m\n\u001b[1;32m      5\u001b[0m        \u001b[0mself\u001b[0m\u001b[0;34m.\u001b[0m\u001b[0mbalance\u001b[0m \u001b[0;34m=\u001b[0m \u001b[0mbalance\u001b[0m\u001b[0;34m\u001b[0m\u001b[0;34m\u001b[0m\u001b[0m\n\u001b[1;32m      6\u001b[0m \u001b[0msam\u001b[0m \u001b[0;34m=\u001b[0m \u001b[0mAccount\u001b[0m\u001b[0;34m(\u001b[0m\u001b[0mowner\u001b[0m \u001b[0;34m=\u001b[0m \u001b[0;34m'pavan'\u001b[0m\u001b[0;34m)\u001b[0m\u001b[0;34m\u001b[0m\u001b[0;34m\u001b[0m\u001b[0m\n\u001b[0;32m----> 7\u001b[0;31m \u001b[0mfrank\u001b[0m\u001b[0;34m=\u001b[0m\u001b[0mAccount\u001b[0m\u001b[0;34m(\u001b[0m\u001b[0mbalance\u001b[0m \u001b[0;34m=\u001b[0m \u001b[0;34m'100'\u001b[0m\u001b[0;34m)\u001b[0m\u001b[0;34m\u001b[0m\u001b[0;34m\u001b[0m\u001b[0m\n\u001b[0m\u001b[1;32m      8\u001b[0m \u001b[0mfrank\u001b[0m\u001b[0;34m.\u001b[0m\u001b[0mbalance\u001b[0m\u001b[0;34m\u001b[0m\u001b[0;34m\u001b[0m\u001b[0m\n\u001b[1;32m      9\u001b[0m \u001b[0msam\u001b[0m\u001b[0;34m.\u001b[0m\u001b[0mowner\u001b[0m\u001b[0;34m\u001b[0m\u001b[0;34m\u001b[0m\u001b[0m\n",
            "\u001b[0;31mTypeError\u001b[0m: __init__() missing 1 required positional argument: 'owner'"
          ]
        }
      ]
    },
    {
      "cell_type": "code",
      "source": [
        "# 2. Print the object\n",
        "frank=Account(owner = 'pavan')\n",
        "print(frank)\n"
      ],
      "metadata": {
        "id": "Rn9-24knsYUl",
        "colab": {
          "base_uri": "https://localhost:8080/"
        },
        "outputId": "83283acd-c322-4a19-fe80-be5050092d37"
      },
      "execution_count": null,
      "outputs": [
        {
          "output_type": "stream",
          "name": "stdout",
          "text": [
            "<__main__.Account object at 0x7f39d1988290>\n"
          ]
        }
      ]
    },
    {
      "cell_type": "code",
      "source": [
        "# 3. Show the account owner attribute\n",
        "class Account:\n",
        "  def __init__(self, owner):\n",
        "       self.owner = owner\n",
        "frank=Account(owner = 'pavan')\n",
        "frank.owner\n"
      ],
      "metadata": {
        "id": "SK0AQFlPsbOe",
        "colab": {
          "base_uri": "https://localhost:8080/",
          "height": 35
        },
        "outputId": "3a45afa0-5fda-45b0-9cd6-23e802dce2c9"
      },
      "execution_count": null,
      "outputs": [
        {
          "output_type": "execute_result",
          "data": {
            "application/vnd.google.colaboratory.intrinsic+json": {
              "type": "string"
            },
            "text/plain": [
              "'pavan'"
            ]
          },
          "metadata": {},
          "execution_count": 4
        }
      ]
    },
    {
      "cell_type": "code",
      "source": [
        "# 4. Show the account balance attribute\n",
        "class Account:\n",
        "  def __init__(self,balance=0):\n",
        "       self.balance = balance\n",
        "frank=Account(balance='100')\n",
        "frank.balance()"
      ],
      "metadata": {
        "id": "UyQQQdczsenE",
        "colab": {
          "base_uri": "https://localhost:8080/",
          "height": 35
        },
        "outputId": "cb328fdf-8423-48f0-9ad9-484cc39cbec0"
      },
      "execution_count": null,
      "outputs": [
        {
          "output_type": "execute_result",
          "data": {
            "application/vnd.google.colaboratory.intrinsic+json": {
              "type": "string"
            },
            "text/plain": [
              "'100'"
            ]
          },
          "metadata": {},
          "execution_count": 5
        }
      ]
    },
    {
      "cell_type": "code",
      "source": [
        "#5. Make a series of deposits and withdrawals\n",
        "frank = Account(balance = 1000)\n",
        "frank.Deposit(dep_amt = 100)\n",
        "sam = Account(withdraw =50)\n",
        "sam.withdraw(wd_amt = 50)\n",
        "frank.Deposit\n",
        "sam.withdraw"
      ],
      "metadata": {
        "id": "XTrivnp7shUE",
        "colab": {
          "base_uri": "https://localhost:8080/",
          "height": 235
        },
        "outputId": "544e28c5-b582-463e-a259-3efe380ec43f"
      },
      "execution_count": null,
      "outputs": [
        {
          "output_type": "error",
          "ename": "TypeError",
          "evalue": "ignored",
          "traceback": [
            "\u001b[0;31m---------------------------------------------------------------------------\u001b[0m",
            "\u001b[0;31mTypeError\u001b[0m                                 Traceback (most recent call last)",
            "\u001b[0;32m<ipython-input-17-ab8ba2da00c3>\u001b[0m in \u001b[0;36m<module>\u001b[0;34m()\u001b[0m\n\u001b[1;32m      1\u001b[0m \u001b[0;31m#5. Make a series of deposits and withdrawals\u001b[0m\u001b[0;34m\u001b[0m\u001b[0;34m\u001b[0m\u001b[0;34m\u001b[0m\u001b[0m\n\u001b[0;32m----> 2\u001b[0;31m \u001b[0mfrank\u001b[0m \u001b[0;34m=\u001b[0m \u001b[0mAccount\u001b[0m\u001b[0;34m(\u001b[0m\u001b[0mbalance\u001b[0m \u001b[0;34m=\u001b[0m \u001b[0;36m1000\u001b[0m\u001b[0;34m)\u001b[0m\u001b[0;34m\u001b[0m\u001b[0;34m\u001b[0m\u001b[0m\n\u001b[0m\u001b[1;32m      3\u001b[0m \u001b[0mfrank\u001b[0m\u001b[0;34m.\u001b[0m\u001b[0mDeposit\u001b[0m\u001b[0;34m(\u001b[0m\u001b[0mdep_amt\u001b[0m \u001b[0;34m=\u001b[0m \u001b[0;36m100\u001b[0m\u001b[0;34m)\u001b[0m\u001b[0;34m\u001b[0m\u001b[0;34m\u001b[0m\u001b[0m\n\u001b[1;32m      4\u001b[0m \u001b[0msam\u001b[0m \u001b[0;34m=\u001b[0m \u001b[0mAccount\u001b[0m\u001b[0;34m(\u001b[0m\u001b[0mwithdraw\u001b[0m \u001b[0;34m=\u001b[0m\u001b[0;36m50\u001b[0m\u001b[0;34m)\u001b[0m\u001b[0;34m\u001b[0m\u001b[0;34m\u001b[0m\u001b[0m\n\u001b[1;32m      5\u001b[0m \u001b[0msam\u001b[0m\u001b[0;34m.\u001b[0m\u001b[0mwithdraw\u001b[0m\u001b[0;34m(\u001b[0m\u001b[0mwd_amt\u001b[0m \u001b[0;34m=\u001b[0m \u001b[0;36m50\u001b[0m\u001b[0;34m)\u001b[0m\u001b[0;34m\u001b[0m\u001b[0;34m\u001b[0m\u001b[0m\n",
            "\u001b[0;31mTypeError\u001b[0m: __init__() missing 1 required positional argument: 'owner'"
          ]
        }
      ]
    },
    {
      "cell_type": "code",
      "source": [
        "# 6. Make a withdrawal that exceeds the available balance\n",
        "frank = Account(owner,balance = 1000)\n",
        "frnak = Account(withdraw = 1500)"
      ],
      "metadata": {
        "id": "reBTt7zAslKF",
        "colab": {
          "base_uri": "https://localhost:8080/",
          "height": 200
        },
        "outputId": "415e9192-f767-4d1f-b502-284d61b3d484"
      },
      "execution_count": null,
      "outputs": [
        {
          "output_type": "error",
          "ename": "NameError",
          "evalue": "ignored",
          "traceback": [
            "\u001b[0;31m---------------------------------------------------------------------------\u001b[0m",
            "\u001b[0;31mNameError\u001b[0m                                 Traceback (most recent call last)",
            "\u001b[0;32m<ipython-input-19-c156e637c92b>\u001b[0m in \u001b[0;36m<module>\u001b[0;34m()\u001b[0m\n\u001b[1;32m      1\u001b[0m \u001b[0;31m# 6. Make a withdrawal that exceeds the available balance\u001b[0m\u001b[0;34m\u001b[0m\u001b[0;34m\u001b[0m\u001b[0;34m\u001b[0m\u001b[0m\n\u001b[0;32m----> 2\u001b[0;31m \u001b[0mfrank\u001b[0m \u001b[0;34m=\u001b[0m \u001b[0mAccount\u001b[0m\u001b[0;34m(\u001b[0m\u001b[0mowner\u001b[0m\u001b[0;34m,\u001b[0m\u001b[0mbalance\u001b[0m \u001b[0;34m=\u001b[0m \u001b[0;36m1000\u001b[0m\u001b[0;34m)\u001b[0m\u001b[0;34m\u001b[0m\u001b[0;34m\u001b[0m\u001b[0m\n\u001b[0m\u001b[1;32m      3\u001b[0m \u001b[0mfrnak\u001b[0m \u001b[0;34m=\u001b[0m \u001b[0mAccount\u001b[0m\u001b[0;34m(\u001b[0m\u001b[0mwithdraw\u001b[0m \u001b[0;34m=\u001b[0m \u001b[0;36m1500\u001b[0m\u001b[0;34m)\u001b[0m\u001b[0;34m\u001b[0m\u001b[0;34m\u001b[0m\u001b[0m\n",
            "\u001b[0;31mNameError\u001b[0m: name 'owner' is not defined"
          ]
        }
      ]
    }
  ]
}